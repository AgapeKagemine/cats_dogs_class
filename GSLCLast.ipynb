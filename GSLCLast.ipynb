{
  "nbformat": 4,
  "nbformat_minor": 0,
  "metadata": {
    "colab": {
      "name": "GSLCLast.ipynb",
      "provenance": [],
      "collapsed_sections": []
    },
    "kernelspec": {
      "name": "python3",
      "display_name": "Python 3"
    },
    "language_info": {
      "name": "python"
    },
    "accelerator": "GPU"
  },
  "cells": [
    {
      "cell_type": "markdown",
      "metadata": {
        "id": "VHYTGwD8XChK"
      },
      "source": [
        "# Please use google colab... this is made using google colab with some function only exist in google colab..."
      ]
    },
    {
      "cell_type": "markdown",
      "metadata": {
        "id": "G9sQ2YmivlPB"
      },
      "source": [
        "Raymond Rafael Chen - 2301856485"
      ]
    },
    {
      "cell_type": "markdown",
      "metadata": {
        "id": "7RCAnTeUFiDZ"
      },
      "source": [
        "# Download Dataset from kaggle\n",
        "\n",
        "using my own Kaggle API to connect to Google Colab.\n",
        "then unzip the picture"
      ]
    },
    {
      "cell_type": "code",
      "metadata": {
        "id": "MTF63kcJzxYD"
      },
      "source": [
        "def dataset_init():\n",
        "  !pip install -q kaggle\n",
        "  from google.colab import files\n",
        "  #Upload Kaggle API Key...\n",
        "  files.upload()\n",
        "  !mkdir ~/.kaggle\n",
        "  !cp kaggle.json ~/.kaggle/\n",
        "  !chmod 600 ~/.kaggle/kaggle.json\n",
        "  !kaggle competitions download -c dogs-vs-cats\n",
        "  !unzip test1.zip\n",
        "  !unzip train.zip"
      ],
      "execution_count": 4,
      "outputs": []
    },
    {
      "cell_type": "markdown",
      "metadata": {
        "id": "23-Y3iyIFMpc"
      },
      "source": [
        "# Import + Stuff\n"
      ]
    },
    {
      "cell_type": "markdown",
      "metadata": {
        "id": "Fa_tLZeBFR3F"
      },
      "source": [
        "Using  GPU to accelerate training, which was taking more than 6 hours per epoch when using CPU..."
      ]
    },
    {
      "cell_type": "code",
      "metadata": {
        "id": "ocztkgipvf2P",
        "colab": {
          "base_uri": "https://localhost:8080/"
        },
        "outputId": "f56fdfc6-691f-496e-dc4c-0aeaaf13e599"
      },
      "source": [
        "from matplotlib import pyplot\n",
        "import tensorflow as tf\n",
        "from tensorflow.keras.utils import to_categorical\n",
        "from tensorflow.keras.applications.vgg16 import VGG16\n",
        "from tensorflow.keras.models import Model\n",
        "from tensorflow.keras.layers import Dense, Flatten\n",
        "from tensorflow.keras.optimizers import SGD\n",
        "from tensorflow.keras.preprocessing.image import ImageDataGenerator\n",
        "\n",
        "!pip -q install --upgrade tensorflow\n",
        "\n",
        "%tensorflow_version 2.x\n",
        "import tensorflow as tf\n",
        "device_name = tf.test.gpu_device_name()\n",
        "if device_name != '/device:GPU:0':\n",
        "  raise SystemError('GPU device not found')\n",
        "print('Found GPU at: {}'.format(device_name))"
      ],
      "execution_count": 1,
      "outputs": [
        {
          "output_type": "stream",
          "text": [
            "Found GPU at: /device:GPU:0\n"
          ],
          "name": "stdout"
        }
      ]
    },
    {
      "cell_type": "markdown",
      "metadata": {
        "id": "uQdOehTVEytT"
      },
      "source": [
        "# Model Creation\n",
        "\n"
      ]
    },
    {
      "cell_type": "markdown",
      "metadata": {
        "id": "xGKaDQlYE5CF"
      },
      "source": [
        "Dropping output layer from VGG16 and made our own output layer with 128 node as the connection to the output layer and using relu as the activation function for the hidden 128 node and using sigmoid as the activation function for the output"
      ]
    },
    {
      "cell_type": "code",
      "metadata": {
        "id": "D7oQmECrVNgx"
      },
      "source": [
        "def define_model():\n",
        "    # VGC16 use 224x224\n",
        "    model = VGG16(include_top=False, input_shape=(224, 224, 3))\n",
        "    flat = Flatten()(model.layers[-1].output)\n",
        "    clas = Dense(128, activation='relu')(flat)\n",
        "    output = Dense(1, activation='sigmoid')(clas)\n",
        "    model = Model(inputs=model.inputs, outputs=output)\n",
        "    sgd = SGD(learning_rate=0.001)\n",
        "    model.compile(optimizer=sgd, loss='binary_crossentropy', metrics=['accuracy'])\n",
        "    return model"
      ],
      "execution_count": 2,
      "outputs": []
    },
    {
      "cell_type": "markdown",
      "metadata": {
        "id": "EuVKA1OiF01y"
      },
      "source": [
        "# Just arranging the photo to their own class folder\n",
        "\n",
        "Cat.####.jpg goes to cat and same as for the dog\n",
        "\n",
        "The important thing to note from this function, it will be splitted 25% randomly for training and cross validation...\n",
        "\n",
        "Training with 0.75 (75%)\n",
        "Testing with 0.25 (25%)"
      ]
    },
    {
      "cell_type": "code",
      "metadata": {
        "id": "PLK_UceH4v4g"
      },
      "source": [
        "def prepare_dataset():\t\n",
        "\t# organize dataset into a useful structure\n",
        "\tfrom os import makedirs, listdir\n",
        "\tfrom shutil import move\n",
        "\tfrom random import seed, random\n",
        "\t# create directories\n",
        "\tdataset_home = 'Training_Dataset/'\n",
        "\tsubdirs = ['train/', 'test/']\n",
        "\tfor subdir in subdirs:\n",
        "\t\t# create label subdirectories\n",
        "\t\tlabeldirs = ['dogs/', 'cats/']\n",
        "\t\tfor labeldir in labeldirs:\n",
        "\t\t\tnewdir = dataset_home + subdir + labeldir\n",
        "\t\t\tmakedirs(newdir, exist_ok=True)\n",
        "\t# seed random number generator\n",
        "\tseed(1)\n",
        "\t# define ratio of pictures to use for validation ( 25% for testing)\n",
        "\tratio = 0.25\n",
        "\t# copy training dataset images into subdirectories\n",
        "\tsrc_dir = 'train/'\n",
        "\tfor file in listdir(src_dir):\n",
        "\t\tsrc = src_dir + '/' + file\n",
        "\t\tdst_dir = 'train/'\n",
        "\t\tif random() < ratio:\n",
        "\t\t\tdst_dir = 'test/'\n",
        "\t\tif file.startswith('cat'):\n",
        "\t\t\tdst = dataset_home + dst_dir + 'cats/'  + file\n",
        "\t\t\tmove(src, dst)\n",
        "\t\telif file.startswith('dog'):\n",
        "\t\t\tdst = dataset_home + dst_dir + 'dogs/'  + file\n",
        "\t\t\tmove(src, dst)"
      ],
      "execution_count": 3,
      "outputs": []
    },
    {
      "cell_type": "markdown",
      "metadata": {
        "id": "T--sHEiXEgxO"
      },
      "source": [
        "# Just need to be run once per runtime"
      ]
    },
    {
      "cell_type": "code",
      "metadata": {
        "id": "dQfcFfsY2iNB"
      },
      "source": [
        "dataset_init()\n",
        "prepare_dataset()"
      ],
      "execution_count": null,
      "outputs": []
    },
    {
      "cell_type": "markdown",
      "metadata": {
        "id": "MxO-4xaFElvL"
      },
      "source": [
        "# Model Creation + Training"
      ]
    },
    {
      "cell_type": "markdown",
      "metadata": {
        "id": "z2WeQyxyGjN3"
      },
      "source": [
        "6 hours+++ on cpu...\n",
        "\n",
        "Just found out that my tensorflow in my laptop doesn't use gpu at all and i'm waiting for the training for hours... really hoping to knew it from the start..\n",
        "\n",
        "GPU banzai, mostly 6-7 mins per epoch is so good"
      ]
    },
    {
      "cell_type": "markdown",
      "metadata": {
        "id": "9Tz4Wn2oG1zX"
      },
      "source": [
        "Becasuse we need to get the center of the image... ImageDataGenerator will get the center feauture then we provide the mean of the dataset.\n",
        "\n",
        "which then will be used to train and validate the model...\n",
        "\n",
        "epoch = 5, with binary mode because only cats and dogs in binary is 0 and 1, with 224 x 224 size and 64 batch\n",
        "\n",
        "18697 photos / 64 batch = 293 photos per batch"
      ]
    },
    {
      "cell_type": "code",
      "metadata": {
        "id": "gEq2YSkLVQ3U",
        "colab": {
          "base_uri": "https://localhost:8080/",
          "height": 472
        },
        "outputId": "6e47f310-c527-4b53-8455-6ceb8e3adf35"
      },
      "source": [
        "model = define_model()\n",
        "datagen = ImageDataGenerator(featurewise_center=True)\n",
        "datagen.mean = [123.68, 116.779, 103.939]\n",
        "train = datagen.flow_from_directory('../content/Training_Dataset/train/', class_mode='binary', batch_size=64, target_size=(224, 224))\n",
        "test = datagen.flow_from_directory('../content/Training_Dataset/test/', class_mode='binary', batch_size=64, target_size=(224, 224))\n",
        "history = model.fit_generator(train, steps_per_epoch=len(train), epochs=5, validation_data=test, validation_steps=len(test), verbose=1)"
      ],
      "execution_count": 5,
      "outputs": [
        {
          "output_type": "stream",
          "text": [
            "Found 18697 images belonging to 2 classes.\n",
            "Found 6303 images belonging to 2 classes.\n"
          ],
          "name": "stdout"
        },
        {
          "output_type": "stream",
          "text": [
            "/usr/local/lib/python3.7/dist-packages/tensorflow/python/keras/engine/training.py:1940: UserWarning: `Model.fit_generator` is deprecated and will be removed in a future version. Please use `Model.fit`, which supports generators.\n",
            "  warnings.warn('`Model.fit_generator` is deprecated and '\n"
          ],
          "name": "stderr"
        },
        {
          "output_type": "stream",
          "text": [
            "Epoch 1/5\n",
            "293/293 [==============================] - 325s 1s/step - loss: 0.3042 - accuracy: 0.8959 - val_loss: 0.0909 - val_accuracy: 0.9667\n",
            "Epoch 2/5\n",
            "293/293 [==============================] - 290s 988ms/step - loss: 0.0470 - accuracy: 0.9836 - val_loss: 0.0767 - val_accuracy: 0.9718\n",
            "Epoch 3/5\n",
            "293/293 [==============================] - 289s 985ms/step - loss: 0.0196 - accuracy: 0.9932 - val_loss: 0.0787 - val_accuracy: 0.9743\n",
            "Epoch 4/5\n",
            "293/293 [==============================] - 288s 982ms/step - loss: 0.0085 - accuracy: 0.9982 - val_loss: 0.0783 - val_accuracy: 0.9752\n",
            "Epoch 5/5\n",
            "293/293 [==============================] - 287s 980ms/step - loss: 0.0044 - accuracy: 0.9994 - val_loss: 0.0836 - val_accuracy: 0.9776\n"
          ],
          "name": "stdout"
        },
        {
          "output_type": "error",
          "ename": "AttributeError",
          "evalue": "ignored",
          "traceback": [
            "\u001b[0;31m---------------------------------------------------------------------------\u001b[0m",
            "\u001b[0;31mAttributeError\u001b[0m                            Traceback (most recent call last)",
            "\u001b[0;32m<ipython-input-5-1cf3fc25cf05>\u001b[0m in \u001b[0;36m<module>\u001b[0;34m()\u001b[0m\n\u001b[1;32m      5\u001b[0m \u001b[0mtest\u001b[0m \u001b[0;34m=\u001b[0m \u001b[0mdatagen\u001b[0m\u001b[0;34m.\u001b[0m\u001b[0mflow_from_directory\u001b[0m\u001b[0;34m(\u001b[0m\u001b[0;34m'../content/Training_Dataset/test/'\u001b[0m\u001b[0;34m,\u001b[0m \u001b[0mclass_mode\u001b[0m\u001b[0;34m=\u001b[0m\u001b[0;34m'binary'\u001b[0m\u001b[0;34m,\u001b[0m \u001b[0mbatch_size\u001b[0m\u001b[0;34m=\u001b[0m\u001b[0;36m64\u001b[0m\u001b[0;34m,\u001b[0m \u001b[0mtarget_size\u001b[0m\u001b[0;34m=\u001b[0m\u001b[0;34m(\u001b[0m\u001b[0;36m224\u001b[0m\u001b[0;34m,\u001b[0m \u001b[0;36m224\u001b[0m\u001b[0;34m)\u001b[0m\u001b[0;34m)\u001b[0m\u001b[0;34m\u001b[0m\u001b[0;34m\u001b[0m\u001b[0m\n\u001b[1;32m      6\u001b[0m \u001b[0mhistory\u001b[0m \u001b[0;34m=\u001b[0m \u001b[0mmodel\u001b[0m\u001b[0;34m.\u001b[0m\u001b[0mfit_generator\u001b[0m\u001b[0;34m(\u001b[0m\u001b[0mtrain\u001b[0m\u001b[0;34m,\u001b[0m \u001b[0msteps_per_epoch\u001b[0m\u001b[0;34m=\u001b[0m\u001b[0mlen\u001b[0m\u001b[0;34m(\u001b[0m\u001b[0mtrain\u001b[0m\u001b[0;34m)\u001b[0m\u001b[0;34m,\u001b[0m \u001b[0mepochs\u001b[0m\u001b[0;34m=\u001b[0m\u001b[0;36m5\u001b[0m\u001b[0;34m,\u001b[0m \u001b[0mvalidation_data\u001b[0m\u001b[0;34m=\u001b[0m\u001b[0mtest\u001b[0m\u001b[0;34m,\u001b[0m \u001b[0mvalidation_steps\u001b[0m\u001b[0;34m=\u001b[0m\u001b[0mlen\u001b[0m\u001b[0;34m(\u001b[0m\u001b[0mtest\u001b[0m\u001b[0;34m)\u001b[0m\u001b[0;34m,\u001b[0m \u001b[0mverbose\u001b[0m\u001b[0;34m=\u001b[0m\u001b[0;36m1\u001b[0m\u001b[0;34m)\u001b[0m\u001b[0;34m\u001b[0m\u001b[0;34m\u001b[0m\u001b[0m\n\u001b[0;32m----> 7\u001b[0;31m \u001b[0m_\u001b[0m\u001b[0;34m,\u001b[0m \u001b[0macc\u001b[0m \u001b[0;34m=\u001b[0m \u001b[0mmodel\u001b[0m\u001b[0;34m.\u001b[0m\u001b[0mevalute_generator\u001b[0m\u001b[0;34m(\u001b[0m\u001b[0mtest\u001b[0m\u001b[0;34m,\u001b[0m \u001b[0msteps\u001b[0m\u001b[0;34m=\u001b[0m\u001b[0mlen\u001b[0m\u001b[0;34m(\u001b[0m\u001b[0mtest\u001b[0m\u001b[0;34m)\u001b[0m\u001b[0;34m,\u001b[0m \u001b[0mverbose\u001b[0m\u001b[0;34m=\u001b[0m\u001b[0;36m0\u001b[0m\u001b[0;34m)\u001b[0m\u001b[0;34m\u001b[0m\u001b[0;34m\u001b[0m\u001b[0m\n\u001b[0m\u001b[1;32m      8\u001b[0m \u001b[0mprint\u001b[0m\u001b[0;34m(\u001b[0m\u001b[0;34mf\"Acc: {acc}%\"\u001b[0m\u001b[0;34m)\u001b[0m\u001b[0;34m\u001b[0m\u001b[0;34m\u001b[0m\u001b[0m\n",
            "\u001b[0;31mAttributeError\u001b[0m: 'Functional' object has no attribute 'evalute_generator'"
          ]
        }
      ]
    },
    {
      "cell_type": "code",
      "metadata": {
        "colab": {
          "base_uri": "https://localhost:8080/"
        },
        "id": "FdBvegOAKu0p",
        "outputId": "5b41cb53-1b09-4fc9-9c77-22cea3485ecf"
      },
      "source": [
        "_, acc = model.evaluate_generator(test, steps=len(test), verbose=0)\n",
        "print(f\"Acc: {acc*100}%\")"
      ],
      "execution_count": 7,
      "outputs": [
        {
          "output_type": "stream",
          "text": [
            "/usr/local/lib/python3.7/dist-packages/tensorflow/python/keras/engine/training.py:1973: UserWarning: `Model.evaluate_generator` is deprecated and will be removed in a future version. Please use `Model.evaluate`, which supports generators.\n",
            "  warnings.warn('`Model.evaluate_generator` is deprecated and '\n"
          ],
          "name": "stderr"
        },
        {
          "output_type": "stream",
          "text": [
            "Acc: 97.76297211647034%\n"
          ],
          "name": "stdout"
        }
      ]
    },
    {
      "cell_type": "markdown",
      "metadata": {
        "id": "LNKtPuYyEscA"
      },
      "source": [
        "# Plotting"
      ]
    },
    {
      "cell_type": "code",
      "metadata": {
        "id": "OlJRrB7TVUlF",
        "colab": {
          "base_uri": "https://localhost:8080/",
          "height": 180
        },
        "outputId": "3fe8e3c4-d808-44e3-8f69-89fdbd34379c"
      },
      "source": [
        "# Cross Entropy\n",
        "pyplot.subplot(211)\n",
        "pyplot.title('Cross Entropy Loss')\n",
        "pyplot.plot(history.history['loss'], color='blue', label='train')\n",
        "pyplot.plot(history.history['val_loss'], color='orange', label='test')"
      ],
      "execution_count": 8,
      "outputs": [
        {
          "output_type": "execute_result",
          "data": {
            "text/plain": [
              "[<matplotlib.lines.Line2D at 0x7faad0154a50>]"
            ]
          },
          "metadata": {
            "tags": []
          },
          "execution_count": 8
        },
        {
          "output_type": "display_data",
          "data": {
            "image/png": "[encoded data removed]",
            "text/plain": [
              "<Figure size 432x288 with 1 Axes>"
            ]
          },
          "metadata": {
            "tags": [],
            "needs_background": "light"
          }
        }
      ]
    },
    {
      "cell_type": "code",
      "metadata": {
        "id": "BqhmunWCVV6Z",
        "colab": {
          "base_uri": "https://localhost:8080/",
          "height": 180
        },
        "outputId": "63c91ea2-b997-421b-b233-6f71511194de"
      },
      "source": [
        "# plot accuracy\n",
        "pyplot.subplot(212)\n",
        "pyplot.title('Classification Accuracy')\n",
        "pyplot.plot(history.history['accuracy'], color='blue', label='train')\n",
        "pyplot.plot(history.history['val_accuracy'], color='orange', label='test')"
      ],
      "execution_count": 9,
      "outputs": [
        {
          "output_type": "execute_result",
          "data": {
            "text/plain": [
              "[<matplotlib.lines.Line2D at 0x7faad007fad0>]"
            ]
          },
          "metadata": {
            "tags": []
          },
          "execution_count": 9
        },
        {
          "output_type": "display_data",
          "data": {
            "image/png": "[encoded data removed]",
            "text/plain": [
              "<Figure size 432x288 with 1 Axes>"
            ]
          },
          "metadata": {
            "tags": [],
            "needs_background": "light"
          }
        }
      ]
    },
    {
      "cell_type": "code",
      "metadata": {
        "colab": {
          "base_uri": "https://localhost:8080/"
        },
        "id": "Vv4SRmy5K7eb",
        "outputId": "4dc60ef9-0308-4603-db75-770fb4dd34c8"
      },
      "source": [
        "model.trainable = True\n",
        "model.compile(optimizer=tf.keras.optimizers.Adam(1e-5), loss=tf.keras.losses.BinaryCrossentropy(), metrics=['accuracy'])\n",
        "history2 = model.fit(train, steps_per_epoch=len(train), epochs=5, validation_data=test, validation_steps=len(test), verbose=1)\n",
        "_, acc2 = model.evaluate_generator(test, steps=len(test), verbose=0)\n",
        "print(f\"Acc: {acc2*100}%\")"
      ],
      "execution_count": 14,
      "outputs": [
        {
          "output_type": "stream",
          "text": [
            "Epoch 1/5\n",
            "293/293 [==============================] - 290s 987ms/step - loss: 0.0073 - accuracy: 0.9979 - val_loss: 0.0881 - val_accuracy: 0.9779\n",
            "Epoch 2/5\n",
            "293/293 [==============================] - 287s 981ms/step - loss: 0.0040 - accuracy: 0.9990 - val_loss: 0.1307 - val_accuracy: 0.9692\n",
            "Epoch 3/5\n",
            "293/293 [==============================] - 287s 978ms/step - loss: 0.0060 - accuracy: 0.9979 - val_loss: 0.0843 - val_accuracy: 0.9806\n",
            "Epoch 4/5\n",
            "293/293 [==============================] - 286s 976ms/step - loss: 0.0073 - accuracy: 0.9978 - val_loss: 0.0748 - val_accuracy: 0.9803\n",
            "Epoch 5/5\n",
            "293/293 [==============================] - 286s 976ms/step - loss: 9.5805e-04 - accuracy: 0.9998 - val_loss: 0.0812 - val_accuracy: 0.9843\n"
          ],
          "name": "stdout"
        },
        {
          "output_type": "stream",
          "text": [
            "/usr/local/lib/python3.7/dist-packages/tensorflow/python/keras/engine/training.py:1973: UserWarning: `Model.evaluate_generator` is deprecated and will be removed in a future version. Please use `Model.evaluate`, which supports generators.\n",
            "  warnings.warn('`Model.evaluate_generator` is deprecated and '\n"
          ],
          "name": "stderr"
        },
        {
          "output_type": "stream",
          "text": [
            "Acc: 98.42932224273682%\n"
          ],
          "name": "stdout"
        }
      ]
    },
    {
      "cell_type": "code",
      "metadata": {
        "id": "5MtJXa0LOctg"
      },
      "source": [
        ""
      ],
      "execution_count": null,
      "outputs": []
    }
  ]
}